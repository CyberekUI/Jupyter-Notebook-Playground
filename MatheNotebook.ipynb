{
 "cells": [
  {
   "cell_type": "markdown",
   "metadata": {},
   "source": [
    "Hier steht Deine Mathe Hausaufgabe!"
   ]
  },
  {
   "cell_type": "code",
   "execution_count": null,
   "metadata": {},
   "outputs": [],
   "source": [
    "Mathe Aufgabe Nr. 3\n",
    "\n",
    "Bei einer Vergleichsarbeit ergabe sich die folgenden Ergebnisse für die 60 bewerteten Arbeiten: \n",
    "\n",
    "3 Arbeiten wurden mit sehr gut gewertet,\n",
    "6 Arbeiten mit gut,\n",
    "24 Arbeien mit befridiegend,\n",
    "18 Arbeiten mit ausreichend und\n",
    "9 Arbeiten mit mangelhaft. \n",
    "Die Note ungenügend trat nicht auf.\n",
    "\n",
    "a) Berechne die einzelnen Notenanteile in Prozent.\n",
    "b) Stelle die Anteile im Kreisdiagramm dar!"
   ]
  },
  {
   "cell_type": "code",
   "execution_count": 30,
   "metadata": {
    "scrolled": true
   },
   "outputs": [
    {
     "name": "stdout",
     "output_type": "stream",
     "text": [
      "(5.0, 10.0, 40.0, 30.0, 15.0) %\n"
     ]
    }
   ],
   "source": [
    "# G * p/100 = P umgestellt nach p [%]\n",
    "Prozentwerte_der_Schüler=(3/60 * 100,   6/60*100,   24/60*100,  18/60*100,  9/60*100) # Tupel mit Indexierung über [0], [1], ...\n",
    "\n",
    "print(Prozentwerte_der_Schüler,\"%\")"
   ]
  },
  {
   "cell_type": "code",
   "execution_count": 31,
   "metadata": {
    "scrolled": true
   },
   "outputs": [
    {
     "name": "stdout",
     "output_type": "stream",
     "text": [
      "3 Schüler mit sehr gut, das sind  18.0 Grad von 360 Grad\n",
      "6 Schüler mit gut, das sind  36.0 Grad von 360 Grad\n",
      "24 Schüler mit befriedigend, das sind  144.0 Grad von 360 Grad\n",
      "18 Schüler mit ausreichend, das sind  108.0 Grad von 360 Grad\n",
      "9 Schüler mit mangelhaft, das sind  54.0 Grad von 360 Grad\n"
     ]
    }
   ],
   "source": [
    "# Berechung des Winkels für das Kreisdiagramm: 3 Arbeiten mit sehr gut von 60 Arbeiten => 18 Grad\n",
    "\n",
    "print(\"3 Schüler mit sehr gut, das sind \", 360*5/100, \"Grad von 360 Grad\") # G * P% oder G * p/100\n",
    "\n",
    "print(\"6 Schüler mit gut, das sind \", 360*10/100, \"Grad von 360 Grad\")\n",
    "\n",
    "print(\"24 Schüler mit befriedigend, das sind \", 360*40/100, \"Grad von 360 Grad\")\n",
    "\n",
    "print(\"18 Schüler mit ausreichend, das sind \", 360*30/100 ,\"Grad von 360 Grad\")\n",
    "\n",
    "print(\"9 Schüler mit mangelhaft, das sind \", 360*15/100,\"Grad von 360 Grad\")"
   ]
  },
  {
   "cell_type": "markdown",
   "metadata": {},
   "source": [
    "Das folgende Programm zeichnet ein Kreisdiagramm der Prozentwerte:"
   ]
  },
  {
   "cell_type": "code",
   "execution_count": 12,
   "metadata": {},
   "outputs": [],
   "source": [
    "import matplotlib.pyplot as plt"
   ]
  },
  {
   "cell_type": "code",
   "execution_count": 13,
   "metadata": {},
   "outputs": [
    {
     "data": {
      "image/png": "[encoded data removed]",
      "text/plain": [
       "<Figure size 432x288 with 1 Axes>"
      ]
     },
     "metadata": {},
     "output_type": "display_data"
    }
   ],
   "source": [
    "# matplotlib style\n",
    "plt.style.use('seaborn-bright')\n",
    "\n",
    "# data to plot\n",
    "labels = 'sehr gut', 'gut', 'befriedigend', 'ausreichend', 'mangelhaft'\n",
    "sizes = [5, 10, 40, 30, 15]\n",
    "colors = ['green', 'black', 'lightblue', 'red', 'yellow']\n",
    "\n",
    "# plot\n",
    "plt.pie(sizes,              # data\n",
    "        labels=labels,      # slice labels\n",
    "        colors=colors,      # array of clors\n",
    "        autopct='%1.1f%%',  # print the values inside the wedges\n",
    "        shadow=True,        # enable shadow\n",
    "        startangle=140)     # startin angle\n",
    "\n",
    "plt.axis('equal')\n",
    "\n",
    "plt.show()"
   ]
  },
  {
   "cell_type": "markdown",
   "metadata": {},
   "source": [
    "$$\\int_a^b{f(x) * dx}$$\n",
    "\n",
    "$$\\lim_{a\\to\\infty}{ax^2}$$\n",
    "\n",
    "$$\\sum_{i=1}^N i^2$$"
   ]
  },
  {
   "cell_type": "markdown",
   "metadata": {},
   "source": [
    "\n",
    "\n",
    "Die ist eine Formel $\\frac{sin(x)}{cos(x)}$ im Textfluß, die in einfachen $ eingeschlossen wird.\n",
    "\n",
    "Die Berechung für den Prozentwert lautet:   Prozentwert = $\\frac{p}{100}*Grundwert$ oder $\\int_a {p%} * Grundwert$\n"
   ]
  },
  {
   "cell_type": "markdown",
   "metadata": {},
   "source": [
    "https://de.wikipedia.org/wiki/Hilfe:TeX#.C3.9Cberblick_.C3.BCber_LaTeX-Befehle"
   ]
  },
  {
   "cell_type": "code",
   "execution_count": null,
   "metadata": {},
   "outputs": [],
   "source": []
  }
 ],
 "metadata": {
  "kernelspec": {
   "display_name": "Python 3",
   "language": "python",
   "name": "python3"
  },
  "language_info": {
   "codemirror_mode": {
    "name": "ipython",
    "version": 3
   },
   "file_extension": ".py",
   "mimetype": "text/x-python",
   "name": "python",
   "nbconvert_exporter": "python",
   "pygments_lexer": "ipython3",
   "version": "3.8.10"
  }
 },
 "nbformat": 4,
 "nbformat_minor": 4
}
